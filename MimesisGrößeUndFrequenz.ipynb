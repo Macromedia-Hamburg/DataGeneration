{
 "cells": [
  {
   "cell_type": "code",
   "execution_count": null,
   "metadata": {},
   "outputs": [],
   "source": [
    "\n",
    "\n",
    "\n",
    "\n",
    "# Größe der Datensätze von Mimesis #\n",
    "# pip install mimesis wenn noch nicht gemacht #\n",
    "\n",
    "from mimesis import Generic\n",
    "\n",
    "generic = Generic()\n",
    "\n",
    "# Durch For schleife Anzahl der erstellten Namen einstellen #\n",
    "names = [generic.person.first_name() for _ in range(5)]\n",
    "print(names)\n",
    "\n",
    "# Die Größe der Daten in MB / GB zu erzeugen ist mit mimesis kompliziert\n",
    "# und geht nur indirekt über die zwischenspeicherung in einer Liste und die Überwachung dieser\n",
    "\n"
   ]
  },
  {
   "cell_type": "code",
   "execution_count": null,
   "metadata": {},
   "outputs": [],
   "source": [
    "# Die Größe der Daten in MB / GB zu erzeugen ist mit mimesis kompliziert\n",
    "# und geht nur indirekt über die zwischenspeicherung in einer Liste und die Überwachung dieser\n",
    "\n",
    "import sys \n",
    "from mimesis import Generic \n",
    "\n",
    "generic = Generic()\n",
    "\n",
    "def generate_data(target_size_mb):\n",
    "    data = []\n",
    "\n",
    "    # Umrechnung in Bytes, weil daten sehr klein bei Namen \n",
    "    target_size_bytes = target_size_mb * 1024 *1024\n",
    "    current_size = 0\n",
    "\n",
    "    while current_size < target_size_bytes :\n",
    "        name = generic.person.full_name()\n",
    "        data.append(name)\n",
    "    # Aktuelle Größe der Daten in Bytes durch Sys funktion überprüfen    \n",
    "        current_size = sys.getsizeof(data)\n",
    "\n",
    "    return data\n",
    "\n",
    "target_size_mb = int(input(\"Gewünschte Größe eingeben\"))\n",
    "generate_data = generate_data(target_size_mb)\n",
    "# Funktion generate_data wird so oft ausgeführt, bis die Größe der Daten in der Liste 'data' ungefähr (input) größe erreicht hat.\n",
    "# PS habe mit 5 MB das ausprobiert..... macht es nicht die liste ist entloss, aber es dauert nicht zu lange.\n",
    "\n",
    "for item in generate_data:\n",
    "    print(item)"
   ]
  },
  {
   "cell_type": "code",
   "execution_count": 4,
   "metadata": {},
   "outputs": [
    {
     "name": "stdout",
     "output_type": "stream",
     "text": [
      "Issac Kidd\n",
      "Izetta Hopper\n",
      "Kelley Kramer\n"
     ]
    }
   ],
   "source": [
    "# Mit Mimesis könne wir auch in Zeit intervallen Daten erstellen \n",
    "# Müssen nochmal gucken wie man den Output während der erstellung anzeigen kann, also nach allen 10 Sekunden die Liste darstellen \n",
    "\n",
    "\n",
    "# Paket für Zeit \n",
    "import time \n",
    "from mimesis import Generic\n",
    "generic = Generic()\n",
    "name_list = []\n",
    "\n",
    "\n",
    "laufzeit_sec = int(input(\"Geben sie die Laufzeit in Sekunden an \"))\n",
    "#Startzeit \n",
    "start_time = time.time()\n",
    "\n",
    "intervall = int(input(\"Geben sie den Intervall in Sekunden an \"))\n",
    "\n",
    "\n",
    "while time.time() - start_time < laufzeit_sec:\n",
    "  \n",
    "    name = generic.person.full_name()\n",
    "\n",
    "    name_list.append(name)\n",
    "\n",
    "\n",
    "    time.sleep(intervall)\n",
    "\n",
    "for name in name_list:\n",
    "    print(name)\n"
   ]
  }
 ],
 "metadata": {
  "kernelspec": {
   "display_name": "Python 3",
   "language": "python",
   "name": "python3"
  },
  "language_info": {
   "codemirror_mode": {
    "name": "ipython",
    "version": 3
   },
   "file_extension": ".py",
   "mimetype": "text/x-python",
   "name": "python",
   "nbconvert_exporter": "python",
   "pygments_lexer": "ipython3",
   "version": "3.9.13"
  }
 },
 "nbformat": 4,
 "nbformat_minor": 2
}
