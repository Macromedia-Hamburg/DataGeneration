{
 "cells": [
  {
   "cell_type": "code",
   "execution_count": 8,
   "metadata": {},
   "outputs": [
    {
     "name": "stdout",
     "output_type": "stream",
     "text": [
      "9.981629620562689\n",
      "4.42335507030463\n",
      "6.677713558180627\n",
      "7.523314840149742\n",
      "1.462300689798045\n",
      "4.149766962930484\n",
      "9.004781491180026\n",
      "2.6942579671346687\n",
      "0.972232387398192\n",
      "6.584352501224023\n"
     ]
    }
   ],
   "source": [
    "\n",
    "import random\n",
    "for i in range(10):\n",
    "    a = 10*random.random() \n",
    "\n",
    "    print(a)"
   ]
  },
  {
   "cell_type": "code",
   "execution_count": null,
   "metadata": {},
   "outputs": [],
   "source": [
    "# Hallo #"
   ]
  }
 ],
 "metadata": {
  "kernelspec": {
   "display_name": "Python 3",
   "language": "python",
   "name": "python3"
  },
  "language_info": {
   "codemirror_mode": {
    "name": "ipython",
    "version": 3
   },
   "file_extension": ".py",
   "mimetype": "text/x-python",
   "name": "python",
   "nbconvert_exporter": "python",
   "pygments_lexer": "ipython3",
   "version": "3.9.13"
  }
 },
 "nbformat": 4,
 "nbformat_minor": 2
}
